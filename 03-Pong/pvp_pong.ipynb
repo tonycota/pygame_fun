{
 "cells": [
  {
   "cell_type": "code",
   "execution_count": 5,
   "id": "679b52eb",
   "metadata": {},
   "outputs": [
    {
     "name": "stdout",
     "output_type": "stream",
     "text": [
      "just wanting to make sure this kernel is connecting correctly.\n"
     ]
    }
   ],
   "source": [
    "print(f\"just wanting to make sure this kernel is connecting correctly.\")"
   ]
  },
  {
   "cell_type": "code",
   "execution_count": 6,
   "id": "bd6de696",
   "metadata": {},
   "outputs": [],
   "source": [
    "import pygame\n",
    "import sys"
   ]
  },
  {
   "cell_type": "code",
   "execution_count": 7,
   "id": "71f795ed",
   "metadata": {},
   "outputs": [
    {
     "name": "stdout",
     "output_type": "stream",
     "text": [
      "dependencies imported successfully\n"
     ]
    }
   ],
   "source": [
    "print(f'dependencies imported successfully')"
   ]
  },
  {
   "cell_type": "code",
   "execution_count": 8,
   "id": "e7cc3d11",
   "metadata": {},
   "outputs": [
    {
     "ename": "SystemExit",
     "evalue": "",
     "output_type": "error",
     "traceback": [
      "An exception has occurred, use %tb to see the full traceback.\n",
      "\u001b[0;31mSystemExit\u001b[0m\n"
     ]
    },
    {
     "name": "stderr",
     "output_type": "stream",
     "text": [
      "/Users/armandocota/anaconda3/envs/dev/lib/python3.10/site-packages/IPython/core/interactiveshell.py:3534: UserWarning: To exit: use 'exit', 'quit', or Ctrl-D.\n",
      "  warn(\"To exit: use 'exit', 'quit', or Ctrl-D.\", stacklevel=1)\n"
     ]
    }
   ],
   "source": [
    "import pygame\n",
    "import sys\n",
    "\n",
    "# Initialize pygame\n",
    "pygame.init()\n",
    "\n",
    "# Screen settings\n",
    "WIDTH, HEIGHT = 800, 600\n",
    "SCREEN = pygame.display.set_mode((WIDTH, HEIGHT))\n",
    "pygame.display.set_caption(\"Pong Baby\")\n",
    "\n",
    "# Colors\n",
    "WHITE = (255, 255, 255)\n",
    "BLACK = (0, 0, 0)\n",
    "\n",
    "# Game objects\n",
    "PADDLE_WIDTH, PADDLE_HEIGHT = 15, 100\n",
    "BALL_RADIUS = 10\n",
    "PADDLE_SPEED = 7\n",
    "BALL_SPEED_X, BALL_SPEED_Y = 5, 5\n",
    "\n",
    "# Create paddles and ball\n",
    "left_paddle = pygame.Rect(50, HEIGHT//2 - PADDLE_HEIGHT//2, PADDLE_WIDTH, PADDLE_HEIGHT)\n",
    "right_paddle = pygame.Rect(WIDTH - 50 - PADDLE_WIDTH, HEIGHT//2 - PADDLE_HEIGHT//2, PADDLE_WIDTH, PADDLE_HEIGHT)\n",
    "ball = pygame.Rect(WIDTH//2 - BALL_RADIUS, HEIGHT//2 - BALL_RADIUS, BALL_RADIUS*2, BALL_RADIUS*2)\n",
    "\n",
    "# Score\n",
    "left_score = 0\n",
    "right_score = 0\n",
    "font = pygame.font.SysFont(\"Arial\", 36)\n",
    "\n",
    "# Game loop\n",
    "clock = pygame.time.Clock()\n",
    "running = True\n",
    "while running:\n",
    "    clock.tick(60)\n",
    "    SCREEN.fill(BLACK)\n",
    "\n",
    "    # Event handling\n",
    "    for event in pygame.event.get():\n",
    "        if event.type == pygame.QUIT:\n",
    "            running = False\n",
    "\n",
    "    # Get key states\n",
    "    keys = pygame.key.get_pressed()\n",
    "    if keys[pygame.K_w] and left_paddle.top > 0:\n",
    "        left_paddle.y -= PADDLE_SPEED\n",
    "    if keys[pygame.K_s] and left_paddle.bottom < HEIGHT:\n",
    "        left_paddle.y += PADDLE_SPEED\n",
    "    if keys[pygame.K_UP] and right_paddle.top > 0:\n",
    "        right_paddle.y -= PADDLE_SPEED\n",
    "    if keys[pygame.K_DOWN] and right_paddle.bottom < HEIGHT:\n",
    "        right_paddle.y += PADDLE_SPEED\n",
    "\n",
    "    # Ball movement\n",
    "    ball.x += BALL_SPEED_X\n",
    "    ball.y += BALL_SPEED_Y\n",
    "\n",
    "    # Ball collisions with walls\n",
    "    if ball.top <= 0 or ball.bottom >= HEIGHT:\n",
    "        BALL_SPEED_Y *= -1\n",
    "\n",
    "    # Ball collisions with paddles\n",
    "    if ball.colliderect(left_paddle) or ball.colliderect(right_paddle):\n",
    "        BALL_SPEED_X *= -1\n",
    "\n",
    "    # Scoring\n",
    "    if ball.left <= 0:\n",
    "        right_score += 1\n",
    "        ball.center = (WIDTH//2, HEIGHT//2)\n",
    "        BALL_SPEED_X *= -1\n",
    "    if ball.right >= WIDTH:\n",
    "        left_score += 1\n",
    "        ball.center = (WIDTH//2, HEIGHT//2)\n",
    "        BALL_SPEED_X *= -1\n",
    "\n",
    "    # Draw paddles, ball, score\n",
    "    pygame.draw.rect(SCREEN, WHITE, left_paddle)\n",
    "    pygame.draw.rect(SCREEN, WHITE, right_paddle)\n",
    "    pygame.draw.ellipse(SCREEN, WHITE, ball)\n",
    "    pygame.draw.aaline(SCREEN, WHITE, (WIDTH//2, 0), (WIDTH//2, HEIGHT))\n",
    "\n",
    "    left_text = font.render(str(left_score), True, WHITE)\n",
    "    right_text = font.render(str(right_score), True, WHITE)\n",
    "    SCREEN.blit(left_text, (WIDTH//4, 20))\n",
    "    SCREEN.blit(right_text, (WIDTH * 3//4, 20))\n",
    "\n",
    "    pygame.display.flip()\n",
    "\n",
    "pygame.quit()\n",
    "sys.exit()"
   ]
  },
  {
   "cell_type": "code",
   "execution_count": null,
   "id": "f3b78321",
   "metadata": {},
   "outputs": [],
   "source": []
  }
 ],
 "metadata": {
  "kernelspec": {
   "display_name": "Python (dev)",
   "language": "python",
   "name": "dev"
  },
  "language_info": {
   "codemirror_mode": {
    "name": "ipython",
    "version": 3
   },
   "file_extension": ".py",
   "mimetype": "text/x-python",
   "name": "python",
   "nbconvert_exporter": "python",
   "pygments_lexer": "ipython3",
   "version": "3.10.13"
  }
 },
 "nbformat": 4,
 "nbformat_minor": 5
}
